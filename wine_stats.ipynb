{
 "cells": [
  {
   "cell_type": "code",
   "execution_count": 104,
   "metadata": {},
   "outputs": [],
   "source": [
    "import pandas as pd\n",
    "from sklearn.datasets import load_wine\n",
    "from matplotlib import pyplot as plt\n",
    "import seaborn as sns\n",
    "import numpy as np\n",
    "from scipy import stats as st\n",
    "from statsmodels.stats import multitest, proportion\n",
    "from itertools import combinations\n",
    "sns.set_style(\"darkgrid\")\n",
    "%matplotlib inline"
   ]
  },
  {
   "cell_type": "code",
   "execution_count": 34,
   "metadata": {},
   "outputs": [],
   "source": [
    "data = pd.DataFrame(load_wine()['data'])\n",
    "data.columns=load_wine()['feature_names']\n",
    "data['target']=pd.Series(load_wine()['target'])\n",
    "data['wine_class'] = data['target'].apply(lambda x:'class_{}'.format(x))\n",
    "del data['target']"
   ]
  },
  {
   "cell_type": "code",
   "execution_count": 35,
   "metadata": {},
   "outputs": [
    {
     "data": {
      "text/html": [
       "<div>\n",
       "<style scoped>\n",
       "    .dataframe tbody tr th:only-of-type {\n",
       "        vertical-align: middle;\n",
       "    }\n",
       "\n",
       "    .dataframe tbody tr th {\n",
       "        vertical-align: top;\n",
       "    }\n",
       "\n",
       "    .dataframe thead th {\n",
       "        text-align: right;\n",
       "    }\n",
       "</style>\n",
       "<table border=\"1\" class=\"dataframe\">\n",
       "  <thead>\n",
       "    <tr style=\"text-align: right;\">\n",
       "      <th></th>\n",
       "      <th>alcohol</th>\n",
       "      <th>malic_acid</th>\n",
       "      <th>ash</th>\n",
       "      <th>alcalinity_of_ash</th>\n",
       "      <th>magnesium</th>\n",
       "      <th>total_phenols</th>\n",
       "      <th>flavanoids</th>\n",
       "      <th>nonflavanoid_phenols</th>\n",
       "      <th>proanthocyanins</th>\n",
       "      <th>color_intensity</th>\n",
       "      <th>hue</th>\n",
       "      <th>od280/od315_of_diluted_wines</th>\n",
       "      <th>proline</th>\n",
       "      <th>wine_class</th>\n",
       "    </tr>\n",
       "  </thead>\n",
       "  <tbody>\n",
       "    <tr>\n",
       "      <th>0</th>\n",
       "      <td>14.23</td>\n",
       "      <td>1.71</td>\n",
       "      <td>2.43</td>\n",
       "      <td>15.6</td>\n",
       "      <td>127.0</td>\n",
       "      <td>2.80</td>\n",
       "      <td>3.06</td>\n",
       "      <td>0.28</td>\n",
       "      <td>2.29</td>\n",
       "      <td>5.64</td>\n",
       "      <td>1.04</td>\n",
       "      <td>3.92</td>\n",
       "      <td>1065.0</td>\n",
       "      <td>class_0</td>\n",
       "    </tr>\n",
       "    <tr>\n",
       "      <th>1</th>\n",
       "      <td>13.20</td>\n",
       "      <td>1.78</td>\n",
       "      <td>2.14</td>\n",
       "      <td>11.2</td>\n",
       "      <td>100.0</td>\n",
       "      <td>2.65</td>\n",
       "      <td>2.76</td>\n",
       "      <td>0.26</td>\n",
       "      <td>1.28</td>\n",
       "      <td>4.38</td>\n",
       "      <td>1.05</td>\n",
       "      <td>3.40</td>\n",
       "      <td>1050.0</td>\n",
       "      <td>class_0</td>\n",
       "    </tr>\n",
       "    <tr>\n",
       "      <th>2</th>\n",
       "      <td>13.16</td>\n",
       "      <td>2.36</td>\n",
       "      <td>2.67</td>\n",
       "      <td>18.6</td>\n",
       "      <td>101.0</td>\n",
       "      <td>2.80</td>\n",
       "      <td>3.24</td>\n",
       "      <td>0.30</td>\n",
       "      <td>2.81</td>\n",
       "      <td>5.68</td>\n",
       "      <td>1.03</td>\n",
       "      <td>3.17</td>\n",
       "      <td>1185.0</td>\n",
       "      <td>class_0</td>\n",
       "    </tr>\n",
       "    <tr>\n",
       "      <th>3</th>\n",
       "      <td>14.37</td>\n",
       "      <td>1.95</td>\n",
       "      <td>2.50</td>\n",
       "      <td>16.8</td>\n",
       "      <td>113.0</td>\n",
       "      <td>3.85</td>\n",
       "      <td>3.49</td>\n",
       "      <td>0.24</td>\n",
       "      <td>2.18</td>\n",
       "      <td>7.80</td>\n",
       "      <td>0.86</td>\n",
       "      <td>3.45</td>\n",
       "      <td>1480.0</td>\n",
       "      <td>class_0</td>\n",
       "    </tr>\n",
       "    <tr>\n",
       "      <th>4</th>\n",
       "      <td>13.24</td>\n",
       "      <td>2.59</td>\n",
       "      <td>2.87</td>\n",
       "      <td>21.0</td>\n",
       "      <td>118.0</td>\n",
       "      <td>2.80</td>\n",
       "      <td>2.69</td>\n",
       "      <td>0.39</td>\n",
       "      <td>1.82</td>\n",
       "      <td>4.32</td>\n",
       "      <td>1.04</td>\n",
       "      <td>2.93</td>\n",
       "      <td>735.0</td>\n",
       "      <td>class_0</td>\n",
       "    </tr>\n",
       "  </tbody>\n",
       "</table>\n",
       "</div>"
      ],
      "text/plain": [
       "   alcohol  malic_acid   ash  alcalinity_of_ash  magnesium  total_phenols  \\\n",
       "0    14.23        1.71  2.43               15.6      127.0           2.80   \n",
       "1    13.20        1.78  2.14               11.2      100.0           2.65   \n",
       "2    13.16        2.36  2.67               18.6      101.0           2.80   \n",
       "3    14.37        1.95  2.50               16.8      113.0           3.85   \n",
       "4    13.24        2.59  2.87               21.0      118.0           2.80   \n",
       "\n",
       "   flavanoids  nonflavanoid_phenols  proanthocyanins  color_intensity   hue  \\\n",
       "0        3.06                  0.28             2.29             5.64  1.04   \n",
       "1        2.76                  0.26             1.28             4.38  1.05   \n",
       "2        3.24                  0.30             2.81             5.68  1.03   \n",
       "3        3.49                  0.24             2.18             7.80  0.86   \n",
       "4        2.69                  0.39             1.82             4.32  1.04   \n",
       "\n",
       "   od280/od315_of_diluted_wines  proline wine_class  \n",
       "0                          3.92   1065.0    class_0  \n",
       "1                          3.40   1050.0    class_0  \n",
       "2                          3.17   1185.0    class_0  \n",
       "3                          3.45   1480.0    class_0  \n",
       "4                          2.93    735.0    class_0  "
      ]
     },
     "execution_count": 35,
     "metadata": {},
     "output_type": "execute_result"
    }
   ],
   "source": [
    "#print (load_wine()['DESCR'])\n",
    "data.head()"
   ]
  },
  {
   "cell_type": "markdown",
   "metadata": {},
   "source": [
    "1. Основы описательной статистики\n",
    "2. Средства визуализации данных\n",
    "3. Меры различий для несвязанных выборок\n",
    "4. Р-уровень значимости\n",
    "5. Основы дисперсионного анализа\n",
    "6. Многофакторный дисперсионный анализ\n",
    "7. Критерии различий для связанных выборок\n",
    "8. Дисперсионный анализ с повторными измерениями\n",
    "9. Основы корреляционного анализа\n",
    "10. Основы регрессивного анализа\n",
    "11. Логистическая регрессия и дискриминантный анализ\n",
    "12. Основы математического моделирования\n",
    "13. Основы кластерного анализа\n",
    "14. Основы фактурного анализа"
   ]
  },
  {
   "cell_type": "markdown",
   "metadata": {},
   "source": [
    "**Основы описательной статистики**"
   ]
  },
  {
   "cell_type": "code",
   "execution_count": 36,
   "metadata": {},
   "outputs": [
    {
     "data": {
      "text/html": [
       "<div>\n",
       "<style scoped>\n",
       "    .dataframe tbody tr th:only-of-type {\n",
       "        vertical-align: middle;\n",
       "    }\n",
       "\n",
       "    .dataframe tbody tr th {\n",
       "        vertical-align: top;\n",
       "    }\n",
       "\n",
       "    .dataframe thead th {\n",
       "        text-align: right;\n",
       "    }\n",
       "</style>\n",
       "<table border=\"1\" class=\"dataframe\">\n",
       "  <thead>\n",
       "    <tr style=\"text-align: right;\">\n",
       "      <th></th>\n",
       "      <th>alcohol</th>\n",
       "      <th>malic_acid</th>\n",
       "      <th>ash</th>\n",
       "      <th>alcalinity_of_ash</th>\n",
       "      <th>magnesium</th>\n",
       "      <th>total_phenols</th>\n",
       "      <th>flavanoids</th>\n",
       "      <th>nonflavanoid_phenols</th>\n",
       "      <th>proanthocyanins</th>\n",
       "      <th>color_intensity</th>\n",
       "      <th>hue</th>\n",
       "      <th>od280/od315_of_diluted_wines</th>\n",
       "      <th>proline</th>\n",
       "      <th>wine_class</th>\n",
       "    </tr>\n",
       "  </thead>\n",
       "  <tbody>\n",
       "    <tr>\n",
       "      <th>0</th>\n",
       "      <td>14.23</td>\n",
       "      <td>1.71</td>\n",
       "      <td>2.43</td>\n",
       "      <td>15.6</td>\n",
       "      <td>127.0</td>\n",
       "      <td>2.80</td>\n",
       "      <td>3.06</td>\n",
       "      <td>0.28</td>\n",
       "      <td>2.29</td>\n",
       "      <td>5.64</td>\n",
       "      <td>1.04</td>\n",
       "      <td>3.92</td>\n",
       "      <td>1065.0</td>\n",
       "      <td>class_0</td>\n",
       "    </tr>\n",
       "    <tr>\n",
       "      <th>1</th>\n",
       "      <td>13.20</td>\n",
       "      <td>1.78</td>\n",
       "      <td>2.14</td>\n",
       "      <td>11.2</td>\n",
       "      <td>100.0</td>\n",
       "      <td>2.65</td>\n",
       "      <td>2.76</td>\n",
       "      <td>0.26</td>\n",
       "      <td>1.28</td>\n",
       "      <td>4.38</td>\n",
       "      <td>1.05</td>\n",
       "      <td>3.40</td>\n",
       "      <td>1050.0</td>\n",
       "      <td>class_0</td>\n",
       "    </tr>\n",
       "    <tr>\n",
       "      <th>2</th>\n",
       "      <td>13.16</td>\n",
       "      <td>2.36</td>\n",
       "      <td>2.67</td>\n",
       "      <td>18.6</td>\n",
       "      <td>101.0</td>\n",
       "      <td>2.80</td>\n",
       "      <td>3.24</td>\n",
       "      <td>0.30</td>\n",
       "      <td>2.81</td>\n",
       "      <td>5.68</td>\n",
       "      <td>1.03</td>\n",
       "      <td>3.17</td>\n",
       "      <td>1185.0</td>\n",
       "      <td>class_0</td>\n",
       "    </tr>\n",
       "    <tr>\n",
       "      <th>3</th>\n",
       "      <td>14.37</td>\n",
       "      <td>1.95</td>\n",
       "      <td>2.50</td>\n",
       "      <td>16.8</td>\n",
       "      <td>113.0</td>\n",
       "      <td>3.85</td>\n",
       "      <td>3.49</td>\n",
       "      <td>0.24</td>\n",
       "      <td>2.18</td>\n",
       "      <td>7.80</td>\n",
       "      <td>0.86</td>\n",
       "      <td>3.45</td>\n",
       "      <td>1480.0</td>\n",
       "      <td>class_0</td>\n",
       "    </tr>\n",
       "    <tr>\n",
       "      <th>4</th>\n",
       "      <td>13.24</td>\n",
       "      <td>2.59</td>\n",
       "      <td>2.87</td>\n",
       "      <td>21.0</td>\n",
       "      <td>118.0</td>\n",
       "      <td>2.80</td>\n",
       "      <td>2.69</td>\n",
       "      <td>0.39</td>\n",
       "      <td>1.82</td>\n",
       "      <td>4.32</td>\n",
       "      <td>1.04</td>\n",
       "      <td>2.93</td>\n",
       "      <td>735.0</td>\n",
       "      <td>class_0</td>\n",
       "    </tr>\n",
       "  </tbody>\n",
       "</table>\n",
       "</div>"
      ],
      "text/plain": [
       "   alcohol  malic_acid   ash  alcalinity_of_ash  magnesium  total_phenols  \\\n",
       "0    14.23        1.71  2.43               15.6      127.0           2.80   \n",
       "1    13.20        1.78  2.14               11.2      100.0           2.65   \n",
       "2    13.16        2.36  2.67               18.6      101.0           2.80   \n",
       "3    14.37        1.95  2.50               16.8      113.0           3.85   \n",
       "4    13.24        2.59  2.87               21.0      118.0           2.80   \n",
       "\n",
       "   flavanoids  nonflavanoid_phenols  proanthocyanins  color_intensity   hue  \\\n",
       "0        3.06                  0.28             2.29             5.64  1.04   \n",
       "1        2.76                  0.26             1.28             4.38  1.05   \n",
       "2        3.24                  0.30             2.81             5.68  1.03   \n",
       "3        3.49                  0.24             2.18             7.80  0.86   \n",
       "4        2.69                  0.39             1.82             4.32  1.04   \n",
       "\n",
       "   od280/od315_of_diluted_wines  proline wine_class  \n",
       "0                          3.92   1065.0    class_0  \n",
       "1                          3.40   1050.0    class_0  \n",
       "2                          3.17   1185.0    class_0  \n",
       "3                          3.45   1480.0    class_0  \n",
       "4                          2.93    735.0    class_0  "
      ]
     },
     "execution_count": 36,
     "metadata": {},
     "output_type": "execute_result"
    }
   ],
   "source": [
    "#Мода, медиана, среднее значение \n",
    "data.head()"
   ]
  },
  {
   "cell_type": "code",
   "execution_count": 37,
   "metadata": {},
   "outputs": [
    {
     "data": {
      "text/html": [
       "<div>\n",
       "<style scoped>\n",
       "    .dataframe tbody tr th:only-of-type {\n",
       "        vertical-align: middle;\n",
       "    }\n",
       "\n",
       "    .dataframe tbody tr th {\n",
       "        vertical-align: top;\n",
       "    }\n",
       "\n",
       "    .dataframe thead th {\n",
       "        text-align: right;\n",
       "    }\n",
       "</style>\n",
       "<table border=\"1\" class=\"dataframe\">\n",
       "  <thead>\n",
       "    <tr style=\"text-align: right;\">\n",
       "      <th></th>\n",
       "      <th>0</th>\n",
       "      <th>1</th>\n",
       "      <th>2</th>\n",
       "    </tr>\n",
       "  </thead>\n",
       "  <tbody>\n",
       "    <tr>\n",
       "      <th>13</th>\n",
       "      <td>wine_class</td>\n",
       "      <td>3</td>\n",
       "      <td>178</td>\n",
       "    </tr>\n",
       "    <tr>\n",
       "      <th>7</th>\n",
       "      <td>nonflavanoid_phenols</td>\n",
       "      <td>39</td>\n",
       "      <td>178</td>\n",
       "    </tr>\n",
       "    <tr>\n",
       "      <th>4</th>\n",
       "      <td>magnesium</td>\n",
       "      <td>53</td>\n",
       "      <td>178</td>\n",
       "    </tr>\n",
       "    <tr>\n",
       "      <th>3</th>\n",
       "      <td>alcalinity_of_ash</td>\n",
       "      <td>63</td>\n",
       "      <td>178</td>\n",
       "    </tr>\n",
       "    <tr>\n",
       "      <th>10</th>\n",
       "      <td>hue</td>\n",
       "      <td>78</td>\n",
       "      <td>178</td>\n",
       "    </tr>\n",
       "    <tr>\n",
       "      <th>2</th>\n",
       "      <td>ash</td>\n",
       "      <td>79</td>\n",
       "      <td>178</td>\n",
       "    </tr>\n",
       "    <tr>\n",
       "      <th>5</th>\n",
       "      <td>total_phenols</td>\n",
       "      <td>97</td>\n",
       "      <td>178</td>\n",
       "    </tr>\n",
       "    <tr>\n",
       "      <th>8</th>\n",
       "      <td>proanthocyanins</td>\n",
       "      <td>101</td>\n",
       "      <td>178</td>\n",
       "    </tr>\n",
       "    <tr>\n",
       "      <th>12</th>\n",
       "      <td>proline</td>\n",
       "      <td>121</td>\n",
       "      <td>178</td>\n",
       "    </tr>\n",
       "    <tr>\n",
       "      <th>11</th>\n",
       "      <td>od280/od315_of_diluted_wines</td>\n",
       "      <td>122</td>\n",
       "      <td>178</td>\n",
       "    </tr>\n",
       "    <tr>\n",
       "      <th>0</th>\n",
       "      <td>alcohol</td>\n",
       "      <td>126</td>\n",
       "      <td>178</td>\n",
       "    </tr>\n",
       "    <tr>\n",
       "      <th>6</th>\n",
       "      <td>flavanoids</td>\n",
       "      <td>132</td>\n",
       "      <td>178</td>\n",
       "    </tr>\n",
       "    <tr>\n",
       "      <th>9</th>\n",
       "      <td>color_intensity</td>\n",
       "      <td>132</td>\n",
       "      <td>178</td>\n",
       "    </tr>\n",
       "    <tr>\n",
       "      <th>1</th>\n",
       "      <td>malic_acid</td>\n",
       "      <td>133</td>\n",
       "      <td>178</td>\n",
       "    </tr>\n",
       "  </tbody>\n",
       "</table>\n",
       "</div>"
      ],
      "text/plain": [
       "                               0    1    2\n",
       "13                    wine_class    3  178\n",
       "7           nonflavanoid_phenols   39  178\n",
       "4                      magnesium   53  178\n",
       "3              alcalinity_of_ash   63  178\n",
       "10                           hue   78  178\n",
       "2                            ash   79  178\n",
       "5                  total_phenols   97  178\n",
       "8                proanthocyanins  101  178\n",
       "12                       proline  121  178\n",
       "11  od280/od315_of_diluted_wines  122  178\n",
       "0                        alcohol  126  178\n",
       "6                     flavanoids  132  178\n",
       "9                color_intensity  132  178\n",
       "1                     malic_acid  133  178"
      ]
     },
     "execution_count": 37,
     "metadata": {},
     "output_type": "execute_result"
    }
   ],
   "source": [
    "cols_uniqueness = []\n",
    "for col in data.columns:\n",
    "    cols_uniqueness.append([col,len(data[col].unique()), data.shape[0]])\n",
    "pd.DataFrame(cols_uniqueness).sort_values([1])"
   ]
  },
  {
   "cell_type": "markdown",
   "metadata": {},
   "source": [
    "**`Меры центральной тенденции`**"
   ]
  },
  {
   "cell_type": "code",
   "execution_count": 38,
   "metadata": {},
   "outputs": [
    {
     "name": "stdout",
     "output_type": "stream",
     "text": [
      "\n",
      "    Moda = 88.0,\n",
      "\n",
      "    Mediana(50% percentile) = 98.0,\n",
      "\n",
      "    Mediana(==0.5 by cumpercentile destribution) = 98.0,\n",
      "\n",
      "    Mediana(as middle element) = 98.0,\n",
      "\n",
      "    Average(by freq distrib) = 99.74157303370787,\n",
      "\n",
      "    Average(pandas func) = 99.74157303370787,\n",
      "\n",
      "    Average(by freq distrib,sampled)=100.30508474576271\n",
      "\n"
     ]
    },
    {
     "data": {
      "text/html": [
       "<div>\n",
       "<style scoped>\n",
       "    .dataframe tbody tr th:only-of-type {\n",
       "        vertical-align: middle;\n",
       "    }\n",
       "\n",
       "    .dataframe tbody tr th {\n",
       "        vertical-align: top;\n",
       "    }\n",
       "\n",
       "    .dataframe thead th {\n",
       "        text-align: right;\n",
       "    }\n",
       "</style>\n",
       "<table border=\"1\" class=\"dataframe\">\n",
       "  <thead>\n",
       "    <tr style=\"text-align: right;\">\n",
       "      <th></th>\n",
       "      <th>magnesium</th>\n",
       "      <th>cnt</th>\n",
       "      <th>cnt_prcnt</th>\n",
       "      <th>cum_prcnt</th>\n",
       "    </tr>\n",
       "  </thead>\n",
       "  <tbody>\n",
       "    <tr>\n",
       "      <th>46</th>\n",
       "      <td>70.0</td>\n",
       "      <td>1</td>\n",
       "      <td>0.005618</td>\n",
       "      <td>0.005618</td>\n",
       "    </tr>\n",
       "    <tr>\n",
       "      <th>20</th>\n",
       "      <td>78.0</td>\n",
       "      <td>3</td>\n",
       "      <td>0.016854</td>\n",
       "      <td>0.022472</td>\n",
       "    </tr>\n",
       "    <tr>\n",
       "      <th>9</th>\n",
       "      <td>80.0</td>\n",
       "      <td>5</td>\n",
       "      <td>0.028090</td>\n",
       "      <td>0.050562</td>\n",
       "    </tr>\n",
       "    <tr>\n",
       "      <th>47</th>\n",
       "      <td>81.0</td>\n",
       "      <td>1</td>\n",
       "      <td>0.005618</td>\n",
       "      <td>0.056180</td>\n",
       "    </tr>\n",
       "    <tr>\n",
       "      <th>51</th>\n",
       "      <td>82.0</td>\n",
       "      <td>1</td>\n",
       "      <td>0.005618</td>\n",
       "      <td>0.061798</td>\n",
       "    </tr>\n",
       "    <tr>\n",
       "      <th>27</th>\n",
       "      <td>84.0</td>\n",
       "      <td>3</td>\n",
       "      <td>0.016854</td>\n",
       "      <td>0.078652</td>\n",
       "    </tr>\n",
       "    <tr>\n",
       "      <th>7</th>\n",
       "      <td>85.0</td>\n",
       "      <td>6</td>\n",
       "      <td>0.033708</td>\n",
       "      <td>0.112360</td>\n",
       "    </tr>\n",
       "    <tr>\n",
       "      <th>1</th>\n",
       "      <td>86.0</td>\n",
       "      <td>11</td>\n",
       "      <td>0.061798</td>\n",
       "      <td>0.174157</td>\n",
       "    </tr>\n",
       "    <tr>\n",
       "      <th>26</th>\n",
       "      <td>87.0</td>\n",
       "      <td>3</td>\n",
       "      <td>0.016854</td>\n",
       "      <td>0.191011</td>\n",
       "    </tr>\n",
       "    <tr>\n",
       "      <th>0</th>\n",
       "      <td>88.0</td>\n",
       "      <td>13</td>\n",
       "      <td>0.073034</td>\n",
       "      <td>0.264045</td>\n",
       "    </tr>\n",
       "  </tbody>\n",
       "</table>\n",
       "</div>"
      ],
      "text/plain": [
       "    magnesium  cnt  cnt_prcnt  cum_prcnt\n",
       "46       70.0    1   0.005618   0.005618\n",
       "20       78.0    3   0.016854   0.022472\n",
       "9        80.0    5   0.028090   0.050562\n",
       "47       81.0    1   0.005618   0.056180\n",
       "51       82.0    1   0.005618   0.061798\n",
       "27       84.0    3   0.016854   0.078652\n",
       "7        85.0    6   0.033708   0.112360\n",
       "1        86.0   11   0.061798   0.174157\n",
       "26       87.0    3   0.016854   0.191011\n",
       "0        88.0   13   0.073034   0.264045"
      ]
     },
     "execution_count": 38,
     "metadata": {},
     "output_type": "execute_result"
    }
   ],
   "source": [
    "#calculate moda, median, average for feature = 'magnesium'\n",
    "#DataFrame.cumsum(axis=None, skipna=True, *args, **kwargs\n",
    "freq_destrib = (data['magnesium'].value_counts()).reset_index().rename(columns={'index':'magnesium','magnesium':'cnt'})\n",
    "#freq_destrib.loc[48,'cnt']=2\n",
    "freq_destrib['cnt_prcnt']=freq_destrib['cnt']/float(freq_destrib['cnt'].sum())\n",
    "freq_destrib=freq_destrib.sort_values(['magnesium'])\n",
    "freq_destrib['cum_prcnt'] = freq_destrib.cumsum()['cnt_prcnt']\n",
    "# moda:\n",
    "moda = freq_destrib[freq_destrib['cnt']==freq_destrib['cnt'].max()]['magnesium'].values[0]\n",
    "\n",
    "#mediana:\n",
    "mediana = np.percentile(data['magnesium'].values,50)\n",
    "med1 = freq_destrib[freq_destrib['cum_prcnt']>=0.5].values[0][0]\n",
    "for_med2 = sorted(list(data['magnesium']))\n",
    "if data.shape[0]%2==0:\n",
    "    med_ind = data.shape[0]//2\n",
    "    med2 = (for_med2[med_ind]+for_med2[med_ind+1])/2.\n",
    "else:\n",
    "    med_ind = data.shape[0]//2+1\n",
    "    med2 = for_med2[med_ind]\n",
    "\n",
    "avg1 = (freq_destrib['magnesium']*freq_destrib['cnt']).sum()/(float(freq_destrib['cnt'].sum()))\n",
    "avg2 = data['magnesium'].mean()\n",
    "avg3 = (freq_destrib['magnesium']*freq_destrib['cnt']).sum()/(float(freq_destrib['cnt'].sum()-1))\n",
    "\n",
    "print('''\n",
    "    Moda = {},\\n\n",
    "    Mediana(50% percentile) = {},\\n\n",
    "    Mediana(==0.5 by cumpercentile destribution) = {},\\n\n",
    "    Mediana(as middle element) = {},\\n\n",
    "    Average(by freq distrib) = {},\\n\n",
    "    Average(pandas func) = {},\\n\n",
    "    Average(by freq distrib,sampled)={}\n",
    "'''.format(moda,mediana,med1,med2,avg1,avg2,avg3))\n",
    "freq_destrib.head(10)"
   ]
  },
  {
   "cell_type": "code",
   "execution_count": 39,
   "metadata": {},
   "outputs": [
    {
     "data": {
      "image/png": "[encoded data removed]",
      "text/plain": [
       "<Figure size 576x432 with 1 Axes>"
      ]
     },
     "metadata": {},
     "output_type": "display_data"
    }
   ],
   "source": [
    "plt.figure(figsize=(8,6))\n",
    "plt.title('Magnesium distribution',fontsize=14) \n",
    "plt.hist(data['magnesium'],bins=50,color='r',alpha=0.5)\n",
    "plt.ylabel('Amount of wine sample',fontsize=12)\n",
    "plt.xlabel('Amount of magnesium in wine sample',fontsize=12)\n",
    "plt.show()"
   ]
  },
  {
   "cell_type": "code",
   "execution_count": 40,
   "metadata": {},
   "outputs": [
    {
     "name": "stdout",
     "output_type": "stream",
     "text": [
      "Усеченное среднее (приближается к медиане(?)=98.0) = 98.45454545454545\n"
     ]
    }
   ],
   "source": [
    "# Усеченное среднее: перед вычислением среднего следует избавиться от выбросов - от 5-10% самых больших и самых маленьких значений\n",
    "useq_freq_destrib = freq_destrib[(freq_destrib['cum_prcnt']>=0.07)&(freq_destrib['cum_prcnt']<=0.93)]\n",
    "useq_avg = (useq_freq_destrib['cnt']*useq_freq_destrib['magnesium']).sum()/float(useq_freq_destrib['cnt'].sum())\n",
    "print('Усеченное среднее (приближается к медиане(?)={}) = {}'.format(mediana,useq_avg))"
   ]
  },
  {
   "cell_type": "code",
   "execution_count": 41,
   "metadata": {},
   "outputs": [
    {
     "data": {
      "image/png": "[encoded data removed]",
      "text/plain": [
       "<Figure size 432x288 with 1 Axes>"
      ]
     },
     "metadata": {},
     "output_type": "display_data"
    }
   ],
   "source": [
    "plt.figure(figsize=(6,4))\n",
    "plt.title('Magnesium distribution (no outliers)',fontsize=13) \n",
    "plt.hist(data[data['magnesium'].isin(useq_freq_destrib['magnesium'].unique())]['magnesium'],bins=30,color='y',alpha=0.5)\n",
    "plt.ylabel('Amount of wine sample',fontsize=11)\n",
    "plt.xlabel('Amount of magnesium in wine sample',fontsize=11)\n",
    "plt.show()"
   ]
  },
  {
   "cell_type": "markdown",
   "metadata": {},
   "source": [
    "**`Меры изменчивости (насколько разнообразны наблюдения)`**"
   ]
  },
  {
   "cell_type": "code",
   "execution_count": 42,
   "metadata": {},
   "outputs": [
    {
     "name": "stdout",
     "output_type": "stream",
     "text": [
      "\n",
      "        rasmah = 92.0,\n",
      "\n",
      "        quartile rasmah = 19.0, \n",
      "\n",
      "        dispersia(pandas func) = 203.9893353646924,\n",
      "\n",
      "        std.err(pandas func) = 14.282483515295665,\n",
      "\n",
      "        dispersia(manually) = 203.98933536469244,\n",
      "\n",
      "        std.err(manually) = 14.282483515295665\n",
      "\n"
     ]
    }
   ],
   "source": [
    "# размах, межквартильный размах (исключаем выбросы), дисперсия и стандартное отклонение\n",
    "rasmah = data['magnesium'].max()-data['magnesium'].min()\n",
    "quart_rasmah = np.percentile(data['magnesium'],75)-np.percentile(data['magnesium'],25)\n",
    "disp1 = data['magnesium'].std()**2\n",
    "std1 = data['magnesium'].std()\n",
    "avg = (freq_destrib['magnesium']*freq_destrib['cnt']).sum()/float(freq_destrib['cnt'].sum())\n",
    "disp2 = (freq_destrib['cnt']*((freq_destrib['magnesium']-avg)**2)).sum()/(float(freq_destrib['cnt'].sum())-1.)\n",
    "std2 = disp2**0.5\n",
    "print ('''\n",
    "        rasmah = {},\\n\n",
    "        quartile rasmah = {}, \\n\n",
    "        dispersia(pandas func) = {},\\n\n",
    "        std.err(pandas func) = {},\\n\n",
    "        dispersia(manually) = {},\\n\n",
    "        std.err(manually) = {}\n",
    "'''.format(rasmah, quart_rasmah, disp1, std1, disp2, std2))"
   ]
  },
  {
   "cell_type": "code",
   "execution_count": 43,
   "metadata": {},
   "outputs": [
    {
     "data": {
      "text/plain": [
       "0.7415730337078652"
      ]
     },
     "execution_count": 43,
     "metadata": {},
     "output_type": "execute_result"
    }
   ],
   "source": [
    "# если распределение нормальное, то 68% наблюдений будет находится в интервале avg+/-std\n",
    "data[(data['magnesium']>=(data['magnesium'].mean()-data['magnesium'].std()))&\\\n",
    "     (data['magnesium']<=(data['magnesium'].mean()+data['magnesium'].std()))].shape[0]/float(data.shape[0])"
   ]
  },
  {
   "cell_type": "code",
   "execution_count": 44,
   "metadata": {},
   "outputs": [],
   "source": [
    "# Важно помнить, что при расчете дисперсии для выборки в знаменателе из общего числа наблюдений вычитается 1\n",
    "# Корень из дисперсии ГС называется среднеквадратичным отклонением, для выборки - стандертным отклонением\n",
    "#"
   ]
  },
  {
   "cell_type": "markdown",
   "metadata": {},
   "source": [
    "** Средства визуализации данных **"
   ]
  },
  {
   "cell_type": "markdown",
   "metadata": {},
   "source": [
    "**`Столбиковая диаграмма`**"
   ]
  },
  {
   "cell_type": "code",
   "execution_count": 45,
   "metadata": {},
   "outputs": [
    {
     "data": {
      "image/png": "[encoded data removed]",
      "text/plain": [
       "<Figure size 576x432 with 1 Axes>"
      ]
     },
     "metadata": {},
     "output_type": "display_data"
    }
   ],
   "source": [
    "data['target']=data['wine_class'].apply(lambda x:int(x.strip().split('_')[-1]))\n",
    "plt.figure(figsize=(8,6))\n",
    "plt.title('Wine-classes distribution',fontsize=14) \n",
    "plt.hist(data['target'],color='r',alpha=0.5)\n",
    "plt.xticks(range(0, 3))\n",
    "plt.xlim(0,3)\n",
    "plt.ylabel('Amount of wine sample',fontsize=12)\n",
    "plt.xlabel('Amount of magnesium in wine sample',fontsize=12)\n",
    "plt.show()"
   ]
  },
  {
   "cell_type": "code",
   "execution_count": 46,
   "metadata": {},
   "outputs": [
    {
     "data": {
      "text/html": [
       "<div>\n",
       "<style scoped>\n",
       "    .dataframe tbody tr th:only-of-type {\n",
       "        vertical-align: middle;\n",
       "    }\n",
       "\n",
       "    .dataframe tbody tr th {\n",
       "        vertical-align: top;\n",
       "    }\n",
       "\n",
       "    .dataframe thead th {\n",
       "        text-align: right;\n",
       "    }\n",
       "</style>\n",
       "<table border=\"1\" class=\"dataframe\">\n",
       "  <thead>\n",
       "    <tr style=\"text-align: right;\">\n",
       "      <th></th>\n",
       "      <th>wine_class</th>\n",
       "      <th>class_cnt</th>\n",
       "      <th>classes_freq</th>\n",
       "    </tr>\n",
       "  </thead>\n",
       "  <tbody>\n",
       "    <tr>\n",
       "      <th>1</th>\n",
       "      <td>0</td>\n",
       "      <td>59</td>\n",
       "      <td>0.331461</td>\n",
       "    </tr>\n",
       "    <tr>\n",
       "      <th>0</th>\n",
       "      <td>1</td>\n",
       "      <td>71</td>\n",
       "      <td>0.398876</td>\n",
       "    </tr>\n",
       "    <tr>\n",
       "      <th>2</th>\n",
       "      <td>2</td>\n",
       "      <td>48</td>\n",
       "      <td>0.269663</td>\n",
       "    </tr>\n",
       "  </tbody>\n",
       "</table>\n",
       "</div>"
      ],
      "text/plain": [
       "   wine_class  class_cnt  classes_freq\n",
       "1           0         59      0.331461\n",
       "0           1         71      0.398876\n",
       "2           2         48      0.269663"
      ]
     },
     "execution_count": 46,
     "metadata": {},
     "output_type": "execute_result"
    }
   ],
   "source": [
    "freq_table = ((data['target'].value_counts()).reset_index()).rename(columns={'index':'wine_class',\\\n",
    "                                                                                 'target':'class_cnt'}).sort_values(['wine_class'])\n",
    "freq_table['classes_freq'] = freq_table['class_cnt']/float(data.shape[0])\n",
    "freq_table"
   ]
  },
  {
   "cell_type": "code",
   "execution_count": 47,
   "metadata": {},
   "outputs": [
    {
     "data": {
      "image/png": "[encoded data removed]",
      "text/plain": [
       "<Figure size 576x432 with 1 Axes>"
      ]
     },
     "metadata": {},
     "output_type": "display_data"
    }
   ],
   "source": [
    "#data['target']=data['wine_class'].apply(lambda x:int(x.strip().split('_')[-1]))\n",
    "plt.figure(figsize=(8,6))\n",
    "plt.title('Wine-classes distribution',fontsize=14) \n",
    "plt.plot(freq_table['wine_class'],freq_table['class_cnt'],'yo-',alpha=0.6)\n",
    "plt.xticks(range(0, 3))\n",
    "plt.ylim(0,freq_table['class_cnt'].max()+10)\n",
    "plt.ylabel('Amount of wine sample',fontsize=12)\n",
    "plt.xlabel('Amount of magnesium in wine sample',fontsize=12)\n",
    "plt.show()"
   ]
  },
  {
   "cell_type": "code",
   "execution_count": 48,
   "metadata": {},
   "outputs": [
    {
     "data": {
      "image/png": "[encoded data removed]",
      "text/plain": [
       "<Figure size 432x288 with 1 Axes>"
      ]
     },
     "metadata": {},
     "output_type": "display_data"
    }
   ],
   "source": [
    "#import matplotlib\n",
    "#matplotlib.rcParams['font.size'] = 11.0\n",
    "plt.title('Wine-classes distribution',fontsize=12)\n",
    "ttt = plt.pie(freq_table['class_cnt'].values, \\\n",
    "                          labels=['WINE %d'%i for i in freq_table['wine_class'].values], \\\n",
    "                          colors=['c','y','m'],radius=1.3,labeldistance=0.4, textprops=dict(color=\"w\"))\n",
    "\n",
    "#for autotext in autotexts:\n",
    "#    autotext.set_color('white')\n",
    "\n",
    "plt.show()"
   ]
  },
  {
   "cell_type": "code",
   "execution_count": 49,
   "metadata": {},
   "outputs": [
    {
     "data": {
      "text/plain": [
       "<matplotlib.collections.PathCollection at 0x127c0ac50>"
      ]
     },
     "execution_count": 49,
     "metadata": {},
     "output_type": "execute_result"
    },
    {
     "data": {
      "image/png": "[encoded data removed]",
      "text/plain": [
       "<Figure size 720x432 with 1 Axes>"
      ]
     },
     "metadata": {},
     "output_type": "display_data"
    }
   ],
   "source": [
    "#plt.scatter(x, y, s=None, c=None,\n",
    "plt.figure(figsize=(10,6))\n",
    "plt.title('Magnesium and alcohol interconnection',fontsize=13)\n",
    "plt.ylabel('Alcohol')\n",
    "plt.xlabel('Magnesium')\n",
    "plt.xticks(list(range(int(data['magnesium'].min()-5),int(data['magnesium'].max()+5), \\\n",
    "                      int((data['magnesium'].max()+10-data['magnesium'].min())//15))))\n",
    "plt.ylim(data['alcohol'].min()-1,data['alcohol'].max()+1)\n",
    "plt.xlim(data['magnesium'].min()-5,data['magnesium'].max()+5)\n",
    "colors = data['target'].replace({0:'c',1:'y',2:'m'}).values\n",
    "plt.scatter(data['magnesium'],data['alcohol'], c=colors)"
   ]
  },
  {
   "cell_type": "code",
   "execution_count": 50,
   "metadata": {},
   "outputs": [
    {
     "data": {
      "text/plain": [
       "<matplotlib.collections.PathCollection at 0x127c795f8>"
      ]
     },
     "execution_count": 50,
     "metadata": {},
     "output_type": "execute_result"
    },
    {
     "data": {
      "image/png": "[encoded data removed]",
      "text/plain": [
       "<Figure size 720x432 with 1 Axes>"
      ]
     },
     "metadata": {},
     "output_type": "display_data"
    }
   ],
   "source": [
    "#plt.scatter(x, y, s=None, c=None,\n",
    "plt.figure(figsize=(10,6))\n",
    "plt.title('Magnesium, alcohol and wine color intensity interconnection',fontsize=13)\n",
    "plt.ylabel('Alcohol')\n",
    "plt.xlabel('Magnesium')\n",
    "plt.xticks(list(range(int(data['magnesium'].min()-5),int(data['magnesium'].max()+5), \\\n",
    "                      int((data['magnesium'].max()+10-data['magnesium'].min())//15))))\n",
    "plt.ylim(data['alcohol'].min()-1,data['alcohol'].max()+1)\n",
    "plt.xlim(data['magnesium'].min()-5,data['magnesium'].max()+5)\n",
    "colors = data['target'].replace({0:'c',1:'y',2:'m'}).values\n",
    "plt.scatter(data['magnesium'],data['alcohol'], c=colors, s=[20*i for i in data['color_intensity'].values],alpha=0.5)"
   ]
  },
  {
   "cell_type": "code",
   "execution_count": 51,
   "metadata": {},
   "outputs": [
    {
     "data": {
      "text/html": [
       "<div>\n",
       "<style scoped>\n",
       "    .dataframe tbody tr th:only-of-type {\n",
       "        vertical-align: middle;\n",
       "    }\n",
       "\n",
       "    .dataframe tbody tr th {\n",
       "        vertical-align: top;\n",
       "    }\n",
       "\n",
       "    .dataframe thead th {\n",
       "        text-align: right;\n",
       "    }\n",
       "</style>\n",
       "<table border=\"1\" class=\"dataframe\">\n",
       "  <thead>\n",
       "    <tr style=\"text-align: right;\">\n",
       "      <th></th>\n",
       "      <th>alcohol</th>\n",
       "      <th>malic_acid</th>\n",
       "      <th>ash</th>\n",
       "      <th>alcalinity_of_ash</th>\n",
       "      <th>magnesium</th>\n",
       "      <th>total_phenols</th>\n",
       "      <th>flavanoids</th>\n",
       "      <th>nonflavanoid_phenols</th>\n",
       "      <th>proanthocyanins</th>\n",
       "      <th>color_intensity</th>\n",
       "      <th>hue</th>\n",
       "      <th>od280/od315_of_diluted_wines</th>\n",
       "      <th>proline</th>\n",
       "      <th>wine_class</th>\n",
       "      <th>target</th>\n",
       "    </tr>\n",
       "  </thead>\n",
       "  <tbody>\n",
       "    <tr>\n",
       "      <th>0</th>\n",
       "      <td>14.23</td>\n",
       "      <td>1.71</td>\n",
       "      <td>2.43</td>\n",
       "      <td>15.6</td>\n",
       "      <td>127.0</td>\n",
       "      <td>2.80</td>\n",
       "      <td>3.06</td>\n",
       "      <td>0.28</td>\n",
       "      <td>2.29</td>\n",
       "      <td>5.64</td>\n",
       "      <td>1.04</td>\n",
       "      <td>3.92</td>\n",
       "      <td>1065.0</td>\n",
       "      <td>class_0</td>\n",
       "      <td>0</td>\n",
       "    </tr>\n",
       "    <tr>\n",
       "      <th>1</th>\n",
       "      <td>13.20</td>\n",
       "      <td>1.78</td>\n",
       "      <td>2.14</td>\n",
       "      <td>11.2</td>\n",
       "      <td>100.0</td>\n",
       "      <td>2.65</td>\n",
       "      <td>2.76</td>\n",
       "      <td>0.26</td>\n",
       "      <td>1.28</td>\n",
       "      <td>4.38</td>\n",
       "      <td>1.05</td>\n",
       "      <td>3.40</td>\n",
       "      <td>1050.0</td>\n",
       "      <td>class_0</td>\n",
       "      <td>0</td>\n",
       "    </tr>\n",
       "    <tr>\n",
       "      <th>2</th>\n",
       "      <td>13.16</td>\n",
       "      <td>2.36</td>\n",
       "      <td>2.67</td>\n",
       "      <td>18.6</td>\n",
       "      <td>101.0</td>\n",
       "      <td>2.80</td>\n",
       "      <td>3.24</td>\n",
       "      <td>0.30</td>\n",
       "      <td>2.81</td>\n",
       "      <td>5.68</td>\n",
       "      <td>1.03</td>\n",
       "      <td>3.17</td>\n",
       "      <td>1185.0</td>\n",
       "      <td>class_0</td>\n",
       "      <td>0</td>\n",
       "    </tr>\n",
       "    <tr>\n",
       "      <th>3</th>\n",
       "      <td>14.37</td>\n",
       "      <td>1.95</td>\n",
       "      <td>2.50</td>\n",
       "      <td>16.8</td>\n",
       "      <td>113.0</td>\n",
       "      <td>3.85</td>\n",
       "      <td>3.49</td>\n",
       "      <td>0.24</td>\n",
       "      <td>2.18</td>\n",
       "      <td>7.80</td>\n",
       "      <td>0.86</td>\n",
       "      <td>3.45</td>\n",
       "      <td>1480.0</td>\n",
       "      <td>class_0</td>\n",
       "      <td>0</td>\n",
       "    </tr>\n",
       "    <tr>\n",
       "      <th>4</th>\n",
       "      <td>13.24</td>\n",
       "      <td>2.59</td>\n",
       "      <td>2.87</td>\n",
       "      <td>21.0</td>\n",
       "      <td>118.0</td>\n",
       "      <td>2.80</td>\n",
       "      <td>2.69</td>\n",
       "      <td>0.39</td>\n",
       "      <td>1.82</td>\n",
       "      <td>4.32</td>\n",
       "      <td>1.04</td>\n",
       "      <td>2.93</td>\n",
       "      <td>735.0</td>\n",
       "      <td>class_0</td>\n",
       "      <td>0</td>\n",
       "    </tr>\n",
       "  </tbody>\n",
       "</table>\n",
       "</div>"
      ],
      "text/plain": [
       "   alcohol  malic_acid   ash  alcalinity_of_ash  magnesium  total_phenols  \\\n",
       "0    14.23        1.71  2.43               15.6      127.0           2.80   \n",
       "1    13.20        1.78  2.14               11.2      100.0           2.65   \n",
       "2    13.16        2.36  2.67               18.6      101.0           2.80   \n",
       "3    14.37        1.95  2.50               16.8      113.0           3.85   \n",
       "4    13.24        2.59  2.87               21.0      118.0           2.80   \n",
       "\n",
       "   flavanoids  nonflavanoid_phenols  proanthocyanins  color_intensity   hue  \\\n",
       "0        3.06                  0.28             2.29             5.64  1.04   \n",
       "1        2.76                  0.26             1.28             4.38  1.05   \n",
       "2        3.24                  0.30             2.81             5.68  1.03   \n",
       "3        3.49                  0.24             2.18             7.80  0.86   \n",
       "4        2.69                  0.39             1.82             4.32  1.04   \n",
       "\n",
       "   od280/od315_of_diluted_wines  proline wine_class  target  \n",
       "0                          3.92   1065.0    class_0       0  \n",
       "1                          3.40   1050.0    class_0       0  \n",
       "2                          3.17   1185.0    class_0       0  \n",
       "3                          3.45   1480.0    class_0       0  \n",
       "4                          2.93    735.0    class_0       0  "
      ]
     },
     "execution_count": 51,
     "metadata": {},
     "output_type": "execute_result"
    }
   ],
   "source": [
    "data.head()"
   ]
  },
  {
   "cell_type": "code",
   "execution_count": 52,
   "metadata": {},
   "outputs": [
    {
     "data": {
      "image/png": "[encoded data removed]",
      "text/plain": [
       "<Figure size 648x504 with 1 Axes>"
      ]
     },
     "metadata": {},
     "output_type": "display_data"
    }
   ],
   "source": [
    "plt.figure(figsize=(9,7))\n",
    "plt.title('Features distribution',fontsize=14)\n",
    "plt.ylabel('Values Distribution')\n",
    "plt.boxplot(data[['malic_acid','ash','total_phenols','flavanoids','proanthocyanins','color_intensity']].values,\\\n",
    "           labels=['malic_acid','ash','total_phenols','flavanoids','proanthocyanins','color_intensity'],\\\n",
    "           meanline=True)\n",
    "plt.ylim(0,15)\n",
    "plt.show()"
   ]
  },
  {
   "cell_type": "code",
   "execution_count": 53,
   "metadata": {},
   "outputs": [],
   "source": [
    "#sns pallets\n",
    "\n",
    "# Accent, Accent_r, Blues, Blues_r, BrBG, BrBG_r, BuGn, BuGn_r, BuPu, BuPu_r, CMRmap, CMRmap_r, Dark2, \n",
    "# Dark2_r, GnBu, GnBu_r, Greens, Greens_r, Greys, Greys_r, OrRd, OrRd_r, Oranges, Oranges_r, PRGn, PRGn_r,\n",
    "# Paired, Paired_r, Pastel1, Pastel1_r, Pastel2, Pastel2_r, PiYG, PiYG_r, PuBu, PuBuGn, PuBuGn_r, PuBu_r,\n",
    "# PuOr, PuOr_r, PuRd, PuRd_r, Purples, Purples_r, RdBu, RdBu_r, RdGy, RdGy_r, RdPu, RdPu_r, RdYlBu, RdYlBu_r, \n",
    "# RdYlGn, RdYlGn_r, Reds, Reds_r, Set1, Set1_r, Set2, Set2_r, Set3, Set3_r, Spectral, Spectral_r, Wistia,\n",
    "# Wistia_r, YlGn, YlGnBu, YlGnBu_r, YlGn_r, YlOrBr, YlOrBr_r, YlOrRd, YlOrRd_r, afmhot, afmhot_r, autumn,\n",
    "# autumn_r, binary, binary_r, bone, bone_r, brg, brg_r, bwr, bwr_r, cividis, cividis_r, cool, cool_r, coolwarm, \n",
    "# coolwarm_r, copper, copper_r, cubehelix, cubehelix_r, flag, flag_r, gist_earth, gist_earth_r, gist_gray,\n",
    "# gist_gray_r, gist_heat, gist_heat_r, gist_ncar, gist_ncar_r, gist_rainbow, gist_rainbow_r, gist_stern, \n",
    "# gist_stern_r, gist_yarg, gist_yarg_r, gnuplot, gnuplot2, gnuplot2_r, gnuplot_r, gray, gray_r, hot, hot_r,\n",
    "# hsv, hsv_r, icefire, icefire_r, inferno, inferno_r, jet, jet_r, magma, magma_r, mako, mako_r, nipy_spectral, \n",
    "# nipy_spectral_r, ocean, ocean_r, pink, pink_r, plasma, plasma_r, prism, prism_r, rainbow, rainbow_r, rocket,\n",
    "# rocket_r, seismic, seismic_r, spring, spring_r, summer, summer_r, tab10, tab10_r, tab20, tab20_r, tab20b,\n",
    "# tab20b_r, tab20c, tab20c_r, terrain, terrain_r, twilight, twilight_r, twilight_shifted, twilight_shifted_r,\n",
    "#viridis, viridis_r, vlag, vlag_r, winter, winter_r"
   ]
  },
  {
   "cell_type": "code",
   "execution_count": 54,
   "metadata": {},
   "outputs": [
    {
     "data": {
      "image/png": "[encoded data removed]",
      "text/plain": [
       "<Figure size 504x360 with 1 Axes>"
      ]
     },
     "metadata": {},
     "output_type": "display_data"
    }
   ],
   "source": [
    "plt.figure(figsize=(7,5))\n",
    "plt.title('Alc distribution across wine classes',fontsize=14)\n",
    "plt.ylabel('Alcohol')\n",
    "sns.boxplot(x=data['target'].values,y=data['alcohol'].values,\\\n",
    "            saturation=0.8, palette=\"BuPu\")\n",
    "plt.ylim(10,16)\n",
    "plt.show()"
   ]
  },
  {
   "cell_type": "code",
   "execution_count": 55,
   "metadata": {},
   "outputs": [],
   "source": [
    "# Data analisys prasupposes data-normalisation\n",
    "\n",
    "def column_normalizer(x):\n",
    "    return (x-x.mean())/x.std()\n",
    "\n",
    "cols_to_normalize = set(data.columns)-set(['wine_class','target'])\n",
    "data2=data[:]\n",
    "for col in cols_to_normalize:\n",
    "    data2[col]=column_normalizer(data2[col])"
   ]
  },
  {
   "cell_type": "code",
   "execution_count": 57,
   "metadata": {},
   "outputs": [
    {
     "name": "stdout",
     "output_type": "stream",
     "text": [
      "NormaltestResult(statistic=15.963552699056704, pvalue=0.00034163202531285443)\n"
     ]
    },
    {
     "data": {
      "text/html": [
       "<div>\n",
       "<style scoped>\n",
       "    .dataframe tbody tr th:only-of-type {\n",
       "        vertical-align: middle;\n",
       "    }\n",
       "\n",
       "    .dataframe tbody tr th {\n",
       "        vertical-align: top;\n",
       "    }\n",
       "\n",
       "    .dataframe thead th {\n",
       "        text-align: right;\n",
       "    }\n",
       "</style>\n",
       "<table border=\"1\" class=\"dataframe\">\n",
       "  <thead>\n",
       "    <tr style=\"text-align: right;\">\n",
       "      <th></th>\n",
       "      <th>alcohol</th>\n",
       "      <th>malic_acid</th>\n",
       "      <th>ash</th>\n",
       "      <th>alcalinity_of_ash</th>\n",
       "      <th>magnesium</th>\n",
       "      <th>total_phenols</th>\n",
       "      <th>flavanoids</th>\n",
       "      <th>nonflavanoid_phenols</th>\n",
       "      <th>proanthocyanins</th>\n",
       "      <th>color_intensity</th>\n",
       "      <th>hue</th>\n",
       "      <th>od280/od315_of_diluted_wines</th>\n",
       "      <th>proline</th>\n",
       "      <th>wine_class</th>\n",
       "      <th>target</th>\n",
       "    </tr>\n",
       "  </thead>\n",
       "  <tbody>\n",
       "    <tr>\n",
       "      <th>0</th>\n",
       "      <td>1.514341</td>\n",
       "      <td>-0.560668</td>\n",
       "      <td>0.231400</td>\n",
       "      <td>-1.166303</td>\n",
       "      <td>1.908522</td>\n",
       "      <td>0.806722</td>\n",
       "      <td>1.031908</td>\n",
       "      <td>-0.657708</td>\n",
       "      <td>1.221438</td>\n",
       "      <td>0.251009</td>\n",
       "      <td>0.361158</td>\n",
       "      <td>1.842721</td>\n",
       "      <td>1.010159</td>\n",
       "      <td>class_0</td>\n",
       "      <td>0</td>\n",
       "    </tr>\n",
       "    <tr>\n",
       "      <th>1</th>\n",
       "      <td>0.245597</td>\n",
       "      <td>-0.498009</td>\n",
       "      <td>-0.825667</td>\n",
       "      <td>-2.483841</td>\n",
       "      <td>0.018094</td>\n",
       "      <td>0.567048</td>\n",
       "      <td>0.731565</td>\n",
       "      <td>-0.818411</td>\n",
       "      <td>-0.543189</td>\n",
       "      <td>-0.292496</td>\n",
       "      <td>0.404908</td>\n",
       "      <td>1.110317</td>\n",
       "      <td>0.962526</td>\n",
       "      <td>class_0</td>\n",
       "      <td>0</td>\n",
       "    </tr>\n",
       "    <tr>\n",
       "      <th>2</th>\n",
       "      <td>0.196325</td>\n",
       "      <td>0.021172</td>\n",
       "      <td>1.106214</td>\n",
       "      <td>-0.267982</td>\n",
       "      <td>0.088110</td>\n",
       "      <td>0.806722</td>\n",
       "      <td>1.212114</td>\n",
       "      <td>-0.497005</td>\n",
       "      <td>2.129959</td>\n",
       "      <td>0.268263</td>\n",
       "      <td>0.317409</td>\n",
       "      <td>0.786369</td>\n",
       "      <td>1.391224</td>\n",
       "      <td>class_0</td>\n",
       "      <td>0</td>\n",
       "    </tr>\n",
       "    <tr>\n",
       "      <th>3</th>\n",
       "      <td>1.686791</td>\n",
       "      <td>-0.345835</td>\n",
       "      <td>0.486554</td>\n",
       "      <td>-0.806975</td>\n",
       "      <td>0.928300</td>\n",
       "      <td>2.484437</td>\n",
       "      <td>1.462399</td>\n",
       "      <td>-0.979113</td>\n",
       "      <td>1.029251</td>\n",
       "      <td>1.182732</td>\n",
       "      <td>-0.426341</td>\n",
       "      <td>1.180741</td>\n",
       "      <td>2.328007</td>\n",
       "      <td>class_0</td>\n",
       "      <td>0</td>\n",
       "    </tr>\n",
       "    <tr>\n",
       "      <th>4</th>\n",
       "      <td>0.294868</td>\n",
       "      <td>0.227053</td>\n",
       "      <td>1.835226</td>\n",
       "      <td>0.450674</td>\n",
       "      <td>1.278379</td>\n",
       "      <td>0.806722</td>\n",
       "      <td>0.661485</td>\n",
       "      <td>0.226158</td>\n",
       "      <td>0.400275</td>\n",
       "      <td>-0.318377</td>\n",
       "      <td>0.361158</td>\n",
       "      <td>0.448336</td>\n",
       "      <td>-0.037767</td>\n",
       "      <td>class_0</td>\n",
       "      <td>0</td>\n",
       "    </tr>\n",
       "  </tbody>\n",
       "</table>\n",
       "</div>"
      ],
      "text/plain": [
       "    alcohol  malic_acid       ash  alcalinity_of_ash  magnesium  \\\n",
       "0  1.514341   -0.560668  0.231400          -1.166303   1.908522   \n",
       "1  0.245597   -0.498009 -0.825667          -2.483841   0.018094   \n",
       "2  0.196325    0.021172  1.106214          -0.267982   0.088110   \n",
       "3  1.686791   -0.345835  0.486554          -0.806975   0.928300   \n",
       "4  0.294868    0.227053  1.835226           0.450674   1.278379   \n",
       "\n",
       "   total_phenols  flavanoids  nonflavanoid_phenols  proanthocyanins  \\\n",
       "0       0.806722    1.031908             -0.657708         1.221438   \n",
       "1       0.567048    0.731565             -0.818411        -0.543189   \n",
       "2       0.806722    1.212114             -0.497005         2.129959   \n",
       "3       2.484437    1.462399             -0.979113         1.029251   \n",
       "4       0.806722    0.661485              0.226158         0.400275   \n",
       "\n",
       "   color_intensity       hue  od280/od315_of_diluted_wines   proline  \\\n",
       "0         0.251009  0.361158                      1.842721  1.010159   \n",
       "1        -0.292496  0.404908                      1.110317  0.962526   \n",
       "2         0.268263  0.317409                      0.786369  1.391224   \n",
       "3         1.182732 -0.426341                      1.180741  2.328007   \n",
       "4        -0.318377  0.361158                      0.448336 -0.037767   \n",
       "\n",
       "  wine_class  target  \n",
       "0    class_0       0  \n",
       "1    class_0       0  \n",
       "2    class_0       0  \n",
       "3    class_0       0  \n",
       "4    class_0       0  "
      ]
     },
     "execution_count": 57,
     "metadata": {},
     "output_type": "execute_result"
    }
   ],
   "source": [
    "# Нормальное распределение\n",
    "# 68% - 1 sigm\n",
    "# 95% - 2 sigms\n",
    "# 99% - 3 sigm\n",
    "\n",
    "#null hypothesis = `sample comes from a normal distribution`\n",
    "print(st.normaltest(data2['alcohol']))\n",
    "data2.head()"
   ]
  },
  {
   "cell_type": "code",
   "execution_count": 60,
   "metadata": {},
   "outputs": [],
   "source": [
    "def removing_outliers(data,feat):\n",
    "    def print_sigmas(tmp,feat):\n",
    "        avg = tmp[feat].mean()\n",
    "        std=tmp[feat].std()\n",
    "        s1 = round(tmp[(tmp[feat]<=(avg+std))&(tmp[feat]>=(avg-std))].shape[0]/float(tmp.shape[0]),2)\n",
    "        s2 = round(tmp[(tmp[feat]<=(avg+2*std))&(tmp[feat]>=(avg-2*std))].shape[0]/float(tmp.shape[0]),2)\n",
    "        s3 = round(tmp[(tmp[feat]<=(avg+3*std))&(tmp[feat]>=(avg-3*std))].shape[0]/float(tmp.shape[0]),2)\n",
    "        print ('\\n'.join(['\\t\\t'.join(i) for i in zip(\\\n",
    "                                                      map(str,['metric',s1,s2,s3]),\\\n",
    "                                                      map(str,['reference',0.68,0.95,0.99]),\\\n",
    "                                                      map(str,['if_equal',s1==0.68,s2==0.95,s3==0.99])\n",
    "                                                     )\\\n",
    "                         ])\\\n",
    "              )\n",
    "        \n",
    "    # 5-10% lowest, highest values\n",
    "    q3 = np.percentile(data[feat].values,3)\n",
    "    q97 = np.percentile(data[feat].values,97)\n",
    "    tmp=data[(data[feat]>=q3)&(data[feat]<=q97)]\n",
    "    test,pval = st.normaltest(tmp[feat])\n",
    "    if pval>=0.05:\n",
    "        print('Normal distribution found (1)')\n",
    "        print_sigmas(tmp,feat)\n",
    "        return tmp\n",
    "    \n",
    "    \n",
    "    # [q25-1.5*(q75-q25), q75+1.5*(q75-q25)]\n",
    "    q25 = np.percentile(data[feat].values,25)\n",
    "    q75 = np.percentile(data[feat].values,75)\n",
    "    upper=q75+1.5*(q75-q25)\n",
    "    lower=q25-1.5*(q75-q25)\n",
    "    tmp = data[(data[feat]<=upper)&(data[feat]>=lower)]\n",
    "    test,pval = st.normaltest(tmp[feat])\n",
    "    if pval>=0.05:\n",
    "        print('Normal distribution found (2)')\n",
    "        print_sigmas(tmp,feat)\n",
    "        return tmp\n",
    "    print('Normal distribution is not found')\n",
    "    return tmp\n",
    "    \n",
    "    "
   ]
  },
  {
   "cell_type": "code",
   "execution_count": 61,
   "metadata": {},
   "outputs": [
    {
     "name": "stdout",
     "output_type": "stream",
     "text": [
      "od280/od315_of_diluted_wines\n",
      "Normal distribution is not found\n",
      "\n",
      "nonflavanoid_phenols\n",
      "Normal distribution is not found\n",
      "\n",
      "flavanoids\n",
      "Normal distribution is not found\n",
      "\n",
      "color_intensity\n",
      "Normal distribution is not found\n",
      "\n",
      "ash\n",
      "Normal distribution found (1)\n",
      "metric\t\treference\t\tif_equal\n",
      "0.63\t\t0.68\t\tFalse\n",
      "0.97\t\t0.95\t\tFalse\n",
      "1.0\t\t0.99\t\tFalse\n",
      "\n",
      "proanthocyanins\n",
      "Normal distribution found (1)\n",
      "metric\t\treference\t\tif_equal\n",
      "0.67\t\t0.68\t\tFalse\n",
      "0.97\t\t0.95\t\tFalse\n",
      "1.0\t\t0.99\t\tFalse\n",
      "\n",
      "alcalinity_of_ash\n",
      "Normal distribution found (2)\n",
      "metric\t\treference\t\tif_equal\n",
      "0.66\t\t0.68\t\tFalse\n",
      "0.95\t\t0.95\t\tTrue\n",
      "1.0\t\t0.99\t\tFalse\n",
      "\n",
      "magnesium\n",
      "Normal distribution is not found\n",
      "\n",
      "hue\n",
      "Normal distribution is not found\n",
      "\n",
      "total_phenols\n",
      "Normal distribution is not found\n",
      "\n",
      "alcohol\n",
      "Normal distribution is not found\n",
      "\n",
      "malic_acid\n",
      "Normal distribution is not found\n",
      "\n",
      "proline\n",
      "Normal distribution is not found\n",
      "\n"
     ]
    }
   ],
   "source": [
    "for feature in cols_to_normalize:\n",
    "    print(feature)\n",
    "    check = removing_outliers(data2,feature)\n",
    "    print()"
   ]
  },
  {
   "cell_type": "markdown",
   "metadata": {},
   "source": [
    "- Если известно, что выборка скорее всего принадлежит к совокупности с нормальным распределением, для описания ГС можно использовать выборочное среднее и выборочное стандартное отклонение\n",
    "- Если распределение в совокупности отличается от нормального, следует использовать медиану, 25-й и 75-й процентили\n",
    "\n",
    "- Для характеристики точности выборочных оценок используют стандартную ошибку"
   ]
  },
  {
   "cell_type": "markdown",
   "metadata": {},
   "source": [
    "**Стандартная ошибка среднего (ЦПТ)**\n",
    "\n",
    "(оценка точности, с которой выборочное среднее характеризует значение среднего по всей совокупности)\n",
    "\n",
    "***ЦПТ*** \n",
    "*  Выборочные средние имеют приближенно нормальное распределение независимо от распределения исходной совокупности, из которой были извлечены выборки\n",
    "*  Среднее значение всех возможных выборочных средних равно среднему исходной совокупности\n",
    "*  Стандартное отклонение всех возможных средних по выборкам, называемое стандартной ошибкой среднего, зависит как от стандартного отклонения совокупности, так и от объема выборки\n",
    "\n",
    "*Стандартная ошибка среднего* (оценка точности выборочного среднего как меры среднего ГС): \n",
    "$$\n",
    "{s_{sample}\\over\\sqrt(n_{sample})}\n",
    "$$"
   ]
  },
  {
   "cell_type": "markdown",
   "metadata": {},
   "source": [
    "**Общие замечания о *параметрических* критериях**\n",
    "\n",
    "Все критерии, основанные на оценке параметров распределения (они называются параметрическими), применимы только в случае, если данные подчиняются соответствующему распределению (чаще всего речь идет о нормальном распределении)"
   ]
  },
  {
   "cell_type": "markdown",
   "metadata": {},
   "source": [
    "**`p-value`** - вероятность ошибочно отвергнуть нулевую гипотезу об отсутствии различий (Ошибка первого рода), т.е. найти различия там, где их нет"
   ]
  },
  {
   "cell_type": "code",
   "execution_count": 62,
   "metadata": {},
   "outputs": [],
   "source": [
    "normal_feats = ['alcalinity_of_ash','ash','proanthocyanins']\n",
    "notnormal_feats = ['proline','flavanoids','magnesium','hue','alcohol','color_intensity','malic_acid','total_phenols']"
   ]
  },
  {
   "cell_type": "markdown",
   "metadata": {},
   "source": [
    "**Меры различий для несвязанных выборок**"
   ]
  },
  {
   "cell_type": "markdown",
   "metadata": {},
   "source": [
    "`Дисперсионный анализ (Критерий Р.Фишера) - сравнение нескольких групп`"
   ]
  },
  {
   "cell_type": "markdown",
   "metadata": {},
   "source": [
    "$$ \\sum_{i=1}^{n_j} (x_{i,j}-M)^2 = \\sum_{i=1}^{n_j} (M_j-M)^2 + \\sum_{i=1}^{n_j} (x_{i,j}-M_j)^2 $$ \n",
    "\n",
    "$$ S_{total}^2 = S_{btwGr}^2 + S_{wthGr}^2 $$  \n",
    "\n",
    "$$ F_{df_{btwGr},df_{wthGr}} = {{S_{btwGr}^2 \\over (J-1)} \\over {S_{wthGr}^2 \\over (N-J)}} $$"
   ]
  },
  {
   "cell_type": "markdown",
   "metadata": {},
   "source": [
    "Необходимое допущение: равенство дисперсий (далее будем использовать критерий **`Levene`**)"
   ]
  },
  {
   "cell_type": "code",
   "execution_count": 63,
   "metadata": {},
   "outputs": [
    {
     "name": "stdout",
     "output_type": "stream",
     "text": [
      "177.92295926142646 177.9229592614264\n",
      "136.23824616190208\n"
     ]
    }
   ],
   "source": [
    "#manually\n",
    "n=data2.shape[0]\n",
    "m=len(data2['target'].unique())\n",
    "avg = (data2.groupby(['target'])['alcohol'].mean()).mean()\n",
    "\n",
    "tmp = pd.merge((data2.groupby(['target'])['alcohol'].mean()).reset_index().rename(columns={'alcohol':'avg'}),\\\n",
    "              (data2.groupby(['target'])['alcohol'].count()).reset_index().rename(columns={'alcohol':'n'}),\\\n",
    "              how='inner',on='target')\n",
    "dmej = ((tmp['n']*((tmp['avg']-avg)**2)).sum())/float(m-1.)\n",
    "\n",
    "tmp = pd.merge(data2[['target','alcohol']],\\\n",
    "         (data2.groupby(['target'])['alcohol'].mean()).reset_index().rename(columns={'alcohol':'avg'}),\n",
    "         how='inner',on=['target'])\n",
    "dvnu=(((tmp['alcohol']-tmp['avg'])**2).sum())/float(n-m)\n",
    "\n",
    "dtot = (((data2['alcohol']-avg)**2).sum())/float(n-1.)\n",
    "print((float(m-1.)*dmej+float(n-m)*dvnu),(float(n-1.)*dtot))\n",
    "criteria = dmej/dvnu\n",
    "print(criteria)"
   ]
  },
  {
   "cell_type": "code",
   "execution_count": 64,
   "metadata": {},
   "outputs": [],
   "source": [
    "def anova_ex(df,cat,col,alpha=0.05):\n",
    "    samples = [i[col].values for j,i in df.groupby(cat) if i.shape[0]>0]\n",
    "    #null hypothesis that all input samples are from populations with equal variances\n",
    "    stat,pval = st.levene(*samples)\n",
    "    if pval<alpha:\n",
    "        print('Unable to perform analysis, samples are of different variance\\nSplit paramater=%s'%col)\n",
    "    else:\n",
    "        print('Able to perform analysis, samples are out of populations with equal variances')\n",
    "        #null hypothesis that two or more groups have the same population mean\n",
    "        statistic, pval = st.f_oneway(*samples)\n",
    "        if pval<alpha:\n",
    "            print('Groups are different on parameter = {}, pvalue = {}'.format(col,round(pval,4)))\n",
    "        else:\n",
    "            print('Groups are the same on parameter = {}, pvalue = {}'.format(col,round(pval,4)))\n",
    "        return (statistic,pval)"
   ]
  },
  {
   "cell_type": "code",
   "execution_count": 65,
   "metadata": {},
   "outputs": [
    {
     "name": "stdout",
     "output_type": "stream",
     "text": [
      "Able to perform analysis, samples are out of populations with equal variances\n",
      "Groups are different on parameter = alcalinity_of_ash, pvalue = 0.0\n",
      "\n",
      "Unable to perform analysis, samples are of different variance\n",
      "Split paramater=ash\n",
      "\n",
      "Able to perform analysis, samples are out of populations with equal variances\n",
      "Groups are different on parameter = proanthocyanins, pvalue = 0.0\n",
      "\n"
     ]
    }
   ],
   "source": [
    "for feature in normal_feats:\n",
    "    res = anova_ex(data2,'target',feature)\n",
    "    print()"
   ]
  },
  {
   "cell_type": "markdown",
   "metadata": {},
   "source": [
    "`Критерий Стьюдента` \n",
    "\n",
    "(в случае сравнений 2х групп, критерий Стьюдента - вариация критерия Фишера $$ F = t^2$$)\n",
    "\n",
    "*  Нулевая гипотеза: средние двух групп равны"
   ]
  },
  {
   "cell_type": "markdown",
   "metadata": {},
   "source": [
    "$$t_{крит} = {{\\bar{X_1}-\\bar{X_2}} \\over {\\sqrt{{s_{1}^2\\over n_1} + {s_{2}^2\\over n_2}}}} $$"
   ]
  },
  {
   "cell_type": "markdown",
   "metadata": {},
   "source": [
    "Критерий используется в методах множественного сравнения, для определения различий между группами, признанными, например, дисперсионным анализом, различными\n",
    "\n",
    "*`Поправка Бонферрони`* : сокращение уровня значимости пропорционально числу групп\n",
    "\n",
    "*`критерий Ньюмена–Кейлса`* : более точная оценка вероятности, чем поправка Бонферрони"
   ]
  },
  {
   "cell_type": "code",
   "execution_count": 96,
   "metadata": {},
   "outputs": [
    {
     "name": "stdout",
     "output_type": "stream",
     "text": [
      "3\n",
      "[1.626380152160771e-08, 2.2334034595708507e-15, 0.03519208744141724]\n",
      "class_0 VS class_1 are different\n",
      "class_0 VS class_2 are different\n",
      "class_1 VS class_2 are same\n"
     ]
    }
   ],
   "source": [
    "# two-sided test for the null hypothesis that 2 independent samples have identical average (expected) values\n",
    "samples = {j:i['alcalinity_of_ash'].values for j,i in data2.groupby(['target']) if i.shape[0]>0}\n",
    "print(len(samples))\n",
    "inds = list(samples.keys())\n",
    "combs = list(combinations(inds,2))\n",
    "pvals = []\n",
    "for pair in combs:\n",
    "    statistic,pvalue = st.ttest_ind(samples[pair[0]],samples[pair[1]])\n",
    "    pvals.append(pvalue)\n",
    "print(pvals)\n",
    "if_reject,corr_pvals,_,alpha = multitest.multipletests(pvals,method='bonferroni')\n",
    "for pair,rej in zip(combs,if_reject):\n",
    "    if rej:\n",
    "        print ('class_{} VS class_{} are different'.format(pair[0],pair[1]))\n",
    "    else:\n",
    "        print ('class_{} VS class_{} are same'.format(pair[0],pair[1]))\n",
    "# true for hypothesis that can be rejected for given alpha"
   ]
  },
  {
   "cell_type": "markdown",
   "metadata": {},
   "source": [
    "**Качественные признаки**\n",
    "-  описываются долей p\n",
    "\n",
    "Независимые испытания Бернулли\n",
    "  *   Каждое отдельное испытание имеет ровно два возможныхвзаимно исключающих исхода\n",
    "  *   Вероятность данного исхода одна и та же в любом испытании\n",
    "  *   Все испытания независимы друг от друга\n",
    "  \n",
    "Стандартное отклонение: $$ \\sigma ={\\sqrt{p*(1-p)}} $$\n",
    "\n",
    "Стандартная ошибка доли: $$ \\sigma_{\\bar{p}} = {\\sqrt{p*(1-p)\\over n}} $$"
   ]
  },
  {
   "cell_type": "markdown",
   "metadata": {},
   "source": [
    "***`z-критерий` и сравнение долей***\n",
    "\n",
    "$$ z = {{\\bar{p_1}-\\bar{p_2}}\\over \\sqrt{{\\bar{p_1}*(1-\\bar{p_1})\\over n_1} + {\\bar{p_2}*(1-\\bar{p_2})\\over n_2}}} $$\n",
    "z - приближено стандартным нормальным распределением\n",
    "\n",
    "Оценка я может оказаться заниженной, из-за дискретности z\n",
    "\n",
    "`Поправка Йеитса` на непрерывность:\n",
    "\n",
    "$$ z = { {|\\bar{p_1}-\\bar{p_2}| - {1\\over2}*({1\\over n_1}+{1\\over n_2}) } \\over {\\sqrt{\\bar{p}*(1-\\bar{p})*({1\\over n_1} + {1\\over n_2})}} }$$"
   ]
  },
  {
   "cell_type": "code",
   "execution_count": 160,
   "metadata": {},
   "outputs": [
    {
     "name": "stdout",
     "output_type": "stream",
     "text": [
      "the shares are different on pvalue=0.0000\n"
     ]
    }
   ],
   "source": [
    "#create experimental binary feature\n",
    "data2['alhocol_bin']=(data2['alcohol']>data2['alcohol'].mean()).astype(int)\n",
    "tmp = pd.merge((data2.groupby(['target'])['alhocol_bin'].count()).reset_index().rename(columns={'alhocol_bin':'n'}),\\\n",
    "         (data2.groupby(['target'])['alhocol_bin'].sum()).reset_index().rename(columns={'alhocol_bin':'fact'}),\\\n",
    "        how='inner',on=['target'])\n",
    "succeses = tmp['fact'].values[:2]\n",
    "trials = tmp['n'].values[:2]\n",
    "stat,pval = proportion.proportions_ztest(succeses,trials)\n",
    "alpha = 0.05\n",
    "if pval<alpha:\n",
    "    print('the shares are different on pvalue=%.4f'%pval)\n",
    "else:\n",
    "    print('the shares are different on pvalue=%.4f'%pval)"
   ]
  },
  {
   "cell_type": "markdown",
   "metadata": {},
   "source": [
    "** Непараметрические критерии **"
   ]
  },
  {
   "cell_type": "markdown",
   "metadata": {},
   "source": [
    "`Хи-Квадрат` (χ2)\n",
    "\n",
    "- Гипотеза об отсутсствии различий между группами\n",
    "\n",
    "$$ χ2 = {\\sum_i^n \\sum_j^m {(p_{Observed_{i,j}}-p_{Expected_{i,j}})^2\\over p_{Expected_{i,j}}}} $$ \n",
    "\n",
    "- для таблиц сопряженности 2х2 χ2 дает завышенную оценку, что вызвано тем, что теоретическое распределение χ2 непрерывно, тогда как набор вычисленных значений χ2 дискретен\n",
    "\n",
    "Применяют `поправку Йеитса` (только для матриц 2х2 ):\n",
    "\n",
    "$$ χ2 = {\\sum_i^n \\sum_j^m {{|p_{Observed_{i,j}}-p_{Expected_{i,j}}| - {1\\over 2}} \\over p_{Expected_{i,j}}}} $$"
   ]
  },
  {
   "cell_type": "code",
   "execution_count": 172,
   "metadata": {},
   "outputs": [
    {
     "data": {
      "text/html": [
       "<div>\n",
       "<style scoped>\n",
       "    .dataframe tbody tr th:only-of-type {\n",
       "        vertical-align: middle;\n",
       "    }\n",
       "\n",
       "    .dataframe tbody tr th {\n",
       "        vertical-align: top;\n",
       "    }\n",
       "\n",
       "    .dataframe thead th {\n",
       "        text-align: right;\n",
       "    }\n",
       "</style>\n",
       "<table border=\"1\" class=\"dataframe\">\n",
       "  <thead>\n",
       "    <tr style=\"text-align: right;\">\n",
       "      <th></th>\n",
       "      <th>target</th>\n",
       "      <th>n</th>\n",
       "      <th>fact</th>\n",
       "      <th>not_fact</th>\n",
       "    </tr>\n",
       "  </thead>\n",
       "  <tbody>\n",
       "    <tr>\n",
       "      <th>0</th>\n",
       "      <td>0</td>\n",
       "      <td>59</td>\n",
       "      <td>57</td>\n",
       "      <td>2</td>\n",
       "    </tr>\n",
       "    <tr>\n",
       "      <th>1</th>\n",
       "      <td>1</td>\n",
       "      <td>71</td>\n",
       "      <td>8</td>\n",
       "      <td>63</td>\n",
       "    </tr>\n",
       "    <tr>\n",
       "      <th>2</th>\n",
       "      <td>2</td>\n",
       "      <td>48</td>\n",
       "      <td>27</td>\n",
       "      <td>21</td>\n",
       "    </tr>\n",
       "  </tbody>\n",
       "</table>\n",
       "</div>"
      ],
      "text/plain": [
       "   target   n  fact  not_fact\n",
       "0       0  59    57         2\n",
       "1       1  71     8        63\n",
       "2       2  48    27        21"
      ]
     },
     "execution_count": 172,
     "metadata": {},
     "output_type": "execute_result"
    }
   ],
   "source": [
    "tmp['not_fact'] = tmp['n']-tmp['fact']\n",
    "total_sum = tmp['n'].sum()\n",
    "cols_sum = ((tmp[['fact','not_fact']].values).sum(axis=0)).reshape((1,2))\n",
    "observed = tmp[['fact','not_fact']].values\n",
    "expected = (((tmp['n'].values).reshape((tmp.shape[0],1))).dot(cols_sum))*(1./total_sum)\n",
    "tmp"
   ]
  },
  {
   "cell_type": "code",
   "execution_count": 181,
   "metadata": {},
   "outputs": [
    {
     "name": "stdout",
     "output_type": "stream",
     "text": [
      "Groups are different on pvalue = 0.0\n"
     ]
    }
   ],
   "source": [
    "#f_obs, f_exp\n",
    "alpha=0.05\n",
    "stat, pval = st.chisquare(observed.flatten(),expected.flatten(),ddof=(3-1)*(2-1))\n",
    "if pval<alpha:\n",
    "    print('Groups are different on pvalue = {}'.format(round(pval,4)))\n",
    "else:\n",
    "    print('Groups are same on pvalue = {}'.format(round(pval,4)))"
   ]
  },
  {
   "cell_type": "code",
   "execution_count": 179,
   "metadata": {},
   "outputs": [],
   "source": [
    "?? st.chisquare"
   ]
  },
  {
   "cell_type": "code",
   "execution_count": 170,
   "metadata": {},
   "outputs": [
    {
     "data": {
      "text/plain": [
       "array([[57,  2],\n",
       "       [ 8, 63],\n",
       "       [27, 21]])"
      ]
     },
     "execution_count": 170,
     "metadata": {},
     "output_type": "execute_result"
    }
   ],
   "source": [
    "observed"
   ]
  },
  {
   "cell_type": "code",
   "execution_count": 171,
   "metadata": {},
   "outputs": [
    {
     "data": {
      "text/plain": [
       "array([[30.49438202, 28.50561798],\n",
       "       [36.69662921, 34.30337079],\n",
       "       [24.80898876, 23.19101124]])"
      ]
     },
     "execution_count": 171,
     "metadata": {},
     "output_type": "execute_result"
    }
   ],
   "source": [
    "expected"
   ]
  },
  {
   "cell_type": "code",
   "execution_count": 176,
   "metadata": {},
   "outputs": [
    {
     "data": {
      "text/plain": [
       "array([57,  2,  8, 63, 27, 21])"
      ]
     },
     "execution_count": 176,
     "metadata": {},
     "output_type": "execute_result"
    }
   ],
   "source": [
    "(observed).flatten()"
   ]
  },
  {
   "cell_type": "code",
   "execution_count": null,
   "metadata": {},
   "outputs": [],
   "source": []
  },
  {
   "cell_type": "code",
   "execution_count": null,
   "metadata": {},
   "outputs": [],
   "source": []
  },
  {
   "cell_type": "code",
   "execution_count": null,
   "metadata": {},
   "outputs": [],
   "source": []
  },
  {
   "cell_type": "code",
   "execution_count": null,
   "metadata": {},
   "outputs": [],
   "source": [
    "#байесовская статистика?"
   ]
  }
 ],
 "metadata": {
  "kernelspec": {
   "display_name": "Python 3",
   "language": "python",
   "name": "python3"
  },
  "language_info": {
   "codemirror_mode": {
    "name": "ipython",
    "version": 3
   },
   "file_extension": ".py",
   "mimetype": "text/x-python",
   "name": "python",
   "nbconvert_exporter": "python",
   "pygments_lexer": "ipython3",
   "version": "3.6.2"
  }
 },
 "nbformat": 4,
 "nbformat_minor": 2
}
